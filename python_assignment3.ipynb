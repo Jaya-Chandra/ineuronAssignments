{
 "cells": [
  {
   "cell_type": "markdown",
   "id": "cb37f4c1",
   "metadata": {},
   "source": [
    "1.1 Write a Python Program to implement your own myreduce() function which works exactly\n",
    "like Python's built-in function reduce()\n"
   ]
  },
  {
   "cell_type": "code",
   "execution_count": 1,
   "id": "3574731a",
   "metadata": {},
   "outputs": [
    {
     "name": "stdout",
     "output_type": "stream",
     "text": [
      "Output with original reduce function:  7308000\n",
      "Output with myreduce function:  7308000\n"
     ]
    }
   ],
   "source": [
    "# myreduce function\n",
    "\n",
    "from functools import reduce\n",
    "\n",
    "def multiply(a,b):\n",
    "    return (a*b)\n",
    "\n",
    "l =[1,29,3,10,40,5,6,7]\n",
    "\n",
    "print(\"Output with original reduce function: \", reduce(multiply, l))\n",
    "\n",
    "def myreduce(func,list):\n",
    "    s=list[0]\n",
    "    for i in range(1,len(list)):\n",
    "        b = list[i]\n",
    "        s = multiply(s,b)\n",
    "    return s\n",
    "print(\"Output with myreduce function: \",myreduce(multiply,l))"
   ]
  },
  {
   "cell_type": "markdown",
   "id": "a223a54f",
   "metadata": {},
   "source": [
    "1.2 Write a Python program to implement your own myfilter() function which works exactly\n",
    "like Python's built-in function filter()\n"
   ]
  },
  {
   "cell_type": "code",
   "execution_count": 2,
   "id": "e2dd26e6",
   "metadata": {},
   "outputs": [
    {
     "name": "stdout",
     "output_type": "stream",
     "text": [
      "Output with original filter function:  [2, 4, 6, 8, 10, 12]\n",
      "Output with custom myfilter function:  [2, 4, 6, 8, 10, 12]\n"
     ]
    }
   ],
   "source": [
    "# myfilter function\n",
    "def even_number(num):\n",
    "    if num % 2 == 0:\n",
    "        return True\n",
    "    else:\n",
    "        return False\n",
    "\n",
    "\n",
    "lst = [1, 2, 3, 4, 5, 6, 7, 8, 9, 10, 11, 12]\n",
    "\n",
    "print(\"Output with original filter function: \", list(filter(even_number, lst)))\n",
    "\n",
    "\n",
    "def myfilter(function, sequence):  # creating custom myfilter function\n",
    "    list1 = []\n",
    "    for i in sequence:\n",
    "        if function(i) == True:\n",
    "            # insterting in the list which we created\n",
    "            list1.append(i)\n",
    "    return list1\n",
    "\n",
    "\n",
    "print(\"Output with custom myfilter function: \", list(myfilter(even_number, lst)))"
   ]
  },
  {
   "cell_type": "markdown",
   "id": "292cc3fb",
   "metadata": {},
   "source": [
    "2. Implement List comprehensions to produce the following lists.\n",
    "Write List comprehensions to produce the following Lists\n",
    "\n",
    "['x', 'xx', 'xxx', 'xxxx', 'y', 'yy', 'yyy', 'yyyy', 'z', 'zz', 'zzz', 'zzzz']\n",
    "\n",
    "['x', 'y', 'z', 'xx', 'yy', 'zz', 'xxx', 'yyy', 'zzz', 'xxxx', 'yyyy', 'zzzz']\n",
    "[[2], [3], [4], [3], [4], [5], [4], [5], [6]] [[2, 3, 4, 5], [3, 4, 5, 6],\n",
    "[4, 5, 6, 7], [5, 6, 7, 8]]\n",
    "[(1, 1), (2, 1), (3, 1), (1, 2), (2, 2), (3, 2), (1, 3), (2, 3), (3, 3)]"
   ]
  },
  {
   "cell_type": "code",
   "execution_count": 3,
   "id": "0ca15a91",
   "metadata": {},
   "outputs": [
    {
     "name": "stdout",
     "output_type": "stream",
     "text": [
      "['x', 'y', 'z']  :  ['x', 'xx', 'xxx', 'xxxx', 'y', 'yy', 'yyy', 'yyyy', 'z', 'zz', 'zzz', 'zzzz']\n"
     ]
    }
   ],
   "source": [
    "# ['x', 'xx', 'xxx', 'xxxx', 'y', 'yy', 'yyy', 'yyyy', 'z', 'zz', 'zzz', 'zzzz']\n",
    "\n",
    "base_list = ['x', 'y', 'z']\n",
    "new_list = [element*num for element in base_list for num in range(1, 5)]\n",
    "print(base_list, \" : \", new_list)"
   ]
  },
  {
   "cell_type": "code",
   "execution_count": 4,
   "id": "b47a593d",
   "metadata": {},
   "outputs": [
    {
     "name": "stdout",
     "output_type": "stream",
     "text": [
      "['x', 'y', 'z']  :  ['x', 'y', 'z', 'xx', 'yy', 'zz', 'xxx', 'yyy', 'zzz', 'xxxx', 'yyyy', 'zzzz']\n"
     ]
    }
   ],
   "source": [
    "# ['x', 'y', 'z', 'xx', 'yy', 'zz', 'xxx', 'yyy', 'zzz', 'xxxx', 'yyyy', 'zzzz']\n",
    "\n",
    "new_list = [element*num for num in range(1, 5) for element in base_list]\n",
    "print(base_list, \" : \", new_list)"
   ]
  },
  {
   "cell_type": "code",
   "execution_count": 5,
   "id": "71c47ccf",
   "metadata": {},
   "outputs": [
    {
     "name": "stdout",
     "output_type": "stream",
     "text": [
      "[2, 3, 4]  :  [[2], [3], [4], [3], [4], [5], [4], [5], [6]]\n"
     ]
    }
   ],
   "source": [
    "# [[2], [3], [4], [3], [4], [5], [4], [5], [6]]\n",
    "\n",
    "num_list = [2, 3, 4]\n",
    "new_list = [[element+num] for element in num_list for num in range(3)]\n",
    "print(num_list, \" : \", new_list)"
   ]
  },
  {
   "cell_type": "code",
   "execution_count": 6,
   "id": "ac62fe23",
   "metadata": {},
   "outputs": [
    {
     "name": "stdout",
     "output_type": "stream",
     "text": [
      "[2, 3, 4, 5]  :  [[2, 3, 4, 5], [3, 4, 5, 6], [4, 5, 6, 7], [5, 6, 7, 8]]\n"
     ]
    }
   ],
   "source": [
    "# [[2, 3, 4, 5], [3, 4, 5, 6],[4, 5, 6, 7], [5, 6, 7, 8]]\n",
    "\n",
    "num_list = [2, 3, 4, 5]\n",
    "new_list = [[element+num for element in num_list] for num in range(4)]\n",
    "print(num_list, \" : \", new_list)"
   ]
  },
  {
   "cell_type": "code",
   "execution_count": 7,
   "id": "ecd32b90",
   "metadata": {},
   "outputs": [
    {
     "name": "stdout",
     "output_type": "stream",
     "text": [
      "[1, 2, 3]  :  [(1, 1), (2, 1), (3, 1), (1, 2), (2, 2), (3, 2), (1, 3), (2, 3), (3, 3)]\n"
     ]
    }
   ],
   "source": [
    "# [(1, 1), (2, 1), (3, 1), (1, 2), (2, 2), (3, 2), (1, 3), (2, 3), (3, 3)]\n",
    "\n",
    "num_list = [1, 2, 3]\n",
    "new_list = [(element, num) for num in num_list for element in num_list]\n",
    "print(num_list, \" : \", new_list)"
   ]
  }
 ],
 "metadata": {
  "kernelspec": {
   "display_name": "Python 3",
   "language": "python",
   "name": "python3"
  },
  "language_info": {
   "codemirror_mode": {
    "name": "ipython",
    "version": 3
   },
   "file_extension": ".py",
   "mimetype": "text/x-python",
   "name": "python",
   "nbconvert_exporter": "python",
   "pygments_lexer": "ipython3",
   "version": "3.8.8"
  }
 },
 "nbformat": 4,
 "nbformat_minor": 5
}
