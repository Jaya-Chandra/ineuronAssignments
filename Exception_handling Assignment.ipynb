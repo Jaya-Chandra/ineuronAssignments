{
 "cells": [
  {
   "cell_type": "markdown",
   "metadata": {},
   "source": [
    "# 1. Write a function to compute 5/0 and use try/except to catch the exceptions."
   ]
  },
  {
   "cell_type": "code",
   "execution_count": 2,
   "metadata": {},
   "outputs": [
    {
     "name": "stdout",
     "output_type": "stream",
     "text": [
      "enter any no. : 0\n",
      "division by zero\n",
      "cannot be divided with zero!!\n"
     ]
    }
   ],
   "source": [
    "try:\n",
    "    n = int(input(\"enter any no. : \"))\n",
    "    div = 5/n\n",
    "    print(div)\n",
    "except Exception as y:\n",
    "    print(y)\n",
    "    print(\"cannot be divided with zero!!\")\n",
    "    "
   ]
  },
  {
   "cell_type": "markdown",
   "metadata": {},
   "source": [
    "#  2. Implement a Python program to generate all sentences where subject is in [\"Americans\", \"Indians\"] and verb is in [\"Play\", \"watch\"] and the object is in [\"Baseball\",\"cricket\"]."
   ]
  },
  {
   "cell_type": "code",
   "execution_count": 1,
   "metadata": {},
   "outputs": [
    {
     "name": "stdout",
     "output_type": "stream",
     "text": [
      "AmericansPlayBaseball\n",
      "AmericansPlayCricket\n",
      "AmericansWatchBaseball\n",
      "AmericansWatchCricket\n",
      "IndiansPlayBaseball\n",
      "IndiansPlayCricket\n",
      "IndiansWatchBaseball\n",
      "IndiansWatchCricket\n"
     ]
    }
   ],
   "source": [
    "subject = ['Americans','Indians']\n",
    "verbs = ['Play','Watch']\n",
    "object = ['Baseball','Cricket']\n",
    "for i in subject:\n",
    "    for j in verbs:\n",
    "        for k in object:\n",
    "            print(i+j+k)"
   ]
  },
  {
   "cell_type": "code",
   "execution_count": null,
   "metadata": {},
   "outputs": [],
   "source": []
  }
 ],
 "metadata": {
  "kernelspec": {
   "display_name": "Python 3",
   "language": "python",
   "name": "python3"
  },
  "language_info": {
   "codemirror_mode": {
    "name": "ipython",
    "version": 3
   },
   "file_extension": ".py",
   "mimetype": "text/x-python",
   "name": "python",
   "nbconvert_exporter": "python",
   "pygments_lexer": "ipython3",
   "version": "3.8.5"
  }
 },
 "nbformat": 4,
 "nbformat_minor": 4
}
